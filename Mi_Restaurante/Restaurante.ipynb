{
  "cells": [
    {
      "cell_type": "code",
      "execution_count": 13,
      "id": "9def3712",
      "metadata": {
        "colab": {
          "base_uri": "https://localhost:8080/"
        },
        "id": "9def3712",
        "outputId": "d861ec78-9bc3-4b6d-dcaf-4fdda8c72bc6"
      },
      "outputs": [
        {
          "output_type": "stream",
          "name": "stdout",
          "text": [
            "✅ Menú base creado con éxito.\n"
          ]
        }
      ],
      "source": [
        "# IN [1] - Definición del diccionario del menú\n",
        "menu_restaurante = {\n",
        "    'Pizza margarita': {\n",
        "        'precio': 12.50,\n",
        "        'ingredientes': ('tomate', 'mozzarella', 'albahaca')\n",
        "    },\n",
        "    'Encocado de pescado': {\n",
        "        'precio': 5.50,\n",
        "        'ingredientes': ('llervita', 'pescado', 'ranchero', 'sal', 'mostaza','chillangua','coco','verde' )\n",
        "    },\n",
        "    'Seco de pollo': {\n",
        "        'precio': 4.00,\n",
        "        'ingredientes': ('Pollo', 'ranchero', 'llervita', 'salsa de tomate', 'refrito')\n",
        "    },\n",
        "    'corviche': {\n",
        "        'precio': 75,\n",
        "        'ingredientes': ('verde', 'pescado', 'llervita', 'mani', 'sal')\n",
        "    },\n",
        "    'Ensalada rusa': {\n",
        "        'precio': 9.50,\n",
        "        'ingredientes': ('choclo', 'mayonesa', 'papa', 'sal', 'cebolla')\n",
        "    }\n",
        "}\n",
        "\n",
        "print(\"✅ Menú base creado con éxito.\")"
      ]
    },
    {
      "cell_type": "code",
      "execution_count": null,
      "id": "5f33cb08",
      "metadata": {
        "id": "5f33cb08"
      },
      "outputs": [],
      "source": [
        "                                        Muestra de menu"
      ]
    },
    {
      "cell_type": "code",
      "execution_count": null,
      "id": "15a3a780",
      "metadata": {
        "id": "15a3a780"
      },
      "outputs": [],
      "source": [
        "# IN [2] - Función mostrar_menu()\n",
        "def mostrar_menu(menu):\n",
        "    \"\"\"Muestra el menú en formato claro y organizado.\"\"\"\n",
        "    print(\"\\n--- MENÚ DEL RESTAURANTE ---\")\n",
        "    for plato, detalles in menu.items():\n",
        "        ingredientes_str = ', '.join(detalles['ingredientes'])\n",
        "        print(f\"\\n🍽️ {plato}\")\n",
        "        print(f\"   Precio: ${detalles['precio']:.2f}\")\n",
        "        print(f\"   Ingredientes: {ingredientes_str}\")\n",
        "    print(\"\\n\" + \"=\"*30)\n",
        "# Ejemplo de uso:\n",
        "mostrar_menu(menu_restaurante)"
      ]
    },
    {
      "cell_type": "code",
      "execution_count": null,
      "id": "cf2d86c6",
      "metadata": {
        "id": "cf2d86c6"
      },
      "outputs": [],
      "source": [
        "                                        Simulacion de Pedidos"
      ]
    },
    {
      "cell_type": "code",
      "execution_count": 16,
      "id": "f52f1664",
      "metadata": {
        "colab": {
          "base_uri": "https://localhost:8080/"
        },
        "id": "f52f1664",
        "outputId": "85c9643d-1816-4150-a08e-5612b79f29ae"
      },
      "outputs": [
        {
          "output_type": "stream",
          "name": "stdout",
          "text": [
            "¡Bienvenido al sistema de pedidos!\n",
            "\n",
            "Introduzca el plato deseado (o 'fin' para terminar): Encocado de pescado  \n",
            "➡️ 'Encocado de pescado' añadido al pedido.\n",
            "Introduzca el plato deseado (o 'fin' para terminar): Ensalada rusa\n",
            "➡️ 'Ensalada rusa' añadido al pedido.\n",
            "Introduzca el plato deseado (o 'fin' para terminar): arroz\n",
            "❌ Error: Plato no encontrado. Revise el menú.\n",
            "Introduzca el plato deseado (o 'fin' para terminar): fin\n",
            "\n",
            "==============================\n"
          ]
        }
      ],
      "source": [
        "# IN [3] - Lógica de pedidos\n",
        "pedido_actual = []\n",
        "total_cuenta = 0.0\n",
        "\n",
        "print(\"¡Bienvenido al sistema de pedidos!\\n\")\n",
        "\n",
        "while True:\n",
        "    plato = input(\"Introduzca el plato deseado (o 'fin' para terminar): \").strip().capitalize()\n",
        "\n",
        "    if plato.lower() == 'fin':\n",
        "        break\n",
        "\n",
        "    if plato in menu_restaurante:\n",
        "        pedido_actual.append(plato)\n",
        "        total_cuenta += menu_restaurante[plato]['precio']\n",
        "        print(f\"➡️ '{plato}' añadido al pedido.\")\n",
        "    else:\n",
        "        print(\"❌ Error: Plato no encontrado. Revise el menú.\")\n",
        "\n",
        "print(\"\\n\" + \"=\"*30)\n"
      ]
    },
    {
      "cell_type": "code",
      "execution_count": null,
      "id": "5b14f5a6",
      "metadata": {
        "id": "5b14f5a6"
      },
      "outputs": [],
      "source": [
        "                                Resumen del pedido"
      ]
    },
    {
      "cell_type": "code",
      "execution_count": 18,
      "id": "a2808977",
      "metadata": {
        "colab": {
          "base_uri": "https://localhost:8080/"
        },
        "id": "a2808977",
        "outputId": "cd52cd96-bd9e-4d78-ed3e-fc0e2dda1e55"
      },
      "outputs": [
        {
          "output_type": "stream",
          "name": "stdout",
          "text": [
            "\n",
            "📝 RESUMEN DE PEDIDO:\n",
            "  - Encocado de pescado ($5.50)\n",
            "  - Ensalada rusa ($9.50)\n",
            "\n",
            "💰 TOTAL A PAGAR: $15.00\n"
          ]
        }
      ],
      "source": [
        "# IN [4] - Mostrar resumen final\n",
        "if pedido_actual:\n",
        "    print(\"\\n📝 RESUMEN DE PEDIDO:\")\n",
        "    for plato in pedido_actual:\n",
        "        print(f\"  - {plato} (${menu_restaurante[plato]['precio']:.2f})\")\n",
        "    print(f\"\\n💰 TOTAL A PAGAR: ${total_cuenta:.2f}\")\n",
        "else:\n",
        "    print(\"No se añadió ningún plato al pedido.\")"
      ]
    },
    {
      "cell_type": "code",
      "execution_count": null,
      "id": "fb90fe04",
      "metadata": {
        "id": "fb90fe04"
      },
      "outputs": [],
      "source": [
        "                                            Modificacion del menu"
      ]
    },
    {
      "cell_type": "code",
      "source": [
        "# IN [2] - Función mostrar_menu()\n",
        "def mostrar_menu(menu):\n",
        "    \"\"\"Muestra el menú en formato claro y organizado.\"\"\"\n",
        "    print(\"\\n--- MENÚ DEL RESTAURANTE ---\")\n",
        "    for plato, detalles in menu.items():\n",
        "        ingredientes_str = ', '.join(detalles['ingredientes'])\n",
        "        print(f\"\\n🍽️ {plato}\")\n",
        "        print(f\"   Precio: ${detalles['precio']:.2f}\")\n",
        "        print(f\"   Ingredientes: {ingredientes_str}\")\n",
        "    print(\"\\n\" + \"=\"*30)\n",
        "\n",
        "# Aplicamos un 10% de descuento al plato \"Encocado de pescado\"\n",
        "menu_restaurante[\"Encocado de pescado\"][\"precio\"] *= 0.90\n",
        "\n",
        "print(\"\\n📉 Se ha aplicado un 10% de descuento al 'Encocado de pescado'.\")\n",
        "mostrar_menu(menu_restaurante)"
      ],
      "metadata": {
        "colab": {
          "base_uri": "https://localhost:8080/"
        },
        "id": "TYewPZ3SsrAb",
        "outputId": "9d9c7604-fad0-498c-f8f3-4ed4e5e8d5d7"
      },
      "id": "TYewPZ3SsrAb",
      "execution_count": 19,
      "outputs": [
        {
          "output_type": "stream",
          "name": "stdout",
          "text": [
            "\n",
            "📉 Se ha aplicado un 10% de descuento al 'Encocado de pescado'.\n",
            "\n",
            "--- MENÚ DEL RESTAURANTE ---\n",
            "\n",
            "🍽️ Pizza margarita\n",
            "   Precio: $12.50\n",
            "   Ingredientes: tomate, mozzarella, albahaca\n",
            "\n",
            "🍽️ Encocado de pescado\n",
            "   Precio: $4.95\n",
            "   Ingredientes: llervita, pescado, ranchero, sal, mostaza, chillangua, coco, verde\n",
            "\n",
            "🍽️ Seco de pollo\n",
            "   Precio: $4.00\n",
            "   Ingredientes: Pollo, ranchero, llervita, salsa de tomate, refrito\n",
            "\n",
            "🍽️ corviche\n",
            "   Precio: $75.00\n",
            "   Ingredientes: verde, pescado, llervita, mani, sal\n",
            "\n",
            "🍽️ Ensalada rusa\n",
            "   Precio: $9.50\n",
            "   Ingredientes: choclo, mayonesa, papa, sal, cebolla\n",
            "\n",
            "==============================\n"
          ]
        }
      ]
    },
    {
      "cell_type": "code",
      "execution_count": null,
      "id": "518010ce",
      "metadata": {
        "id": "518010ce"
      },
      "outputs": [],
      "source": [
        "                                                Nuevo plato temporal"
      ]
    },
    {
      "cell_type": "code",
      "execution_count": 20,
      "id": "122fdbf7",
      "metadata": {
        "colab": {
          "base_uri": "https://localhost:8080/"
        },
        "id": "122fdbf7",
        "outputId": "6fc13e0e-3205-4609-ecff-00634be16ce1"
      },
      "outputs": [
        {
          "output_type": "stream",
          "name": "stdout",
          "text": [
            "\n",
            "🆕 Se ha añadido el 'Plato del Día' al menú.\n",
            "\n",
            "--- MENÚ DEL RESTAURANTE ---\n",
            "\n",
            "🍽️ Pizza margarita\n",
            "   Precio: $12.50\n",
            "   Ingredientes: tomate, mozzarella, albahaca\n",
            "\n",
            "🍽️ Encocado de pescado\n",
            "   Precio: $4.95\n",
            "   Ingredientes: llervita, pescado, ranchero, sal, mostaza, chillangua, coco, verde\n",
            "\n",
            "🍽️ Seco de pollo\n",
            "   Precio: $4.00\n",
            "   Ingredientes: Pollo, ranchero, llervita, salsa de tomate, refrito\n",
            "\n",
            "🍽️ corviche\n",
            "   Precio: $75.00\n",
            "   Ingredientes: verde, pescado, llervita, mani, sal\n",
            "\n",
            "🍽️ Ensalada rusa\n",
            "   Precio: $9.50\n",
            "   Ingredientes: choclo, mayonesa, papa, sal, cebolla\n",
            "\n",
            "🍽️ Plato del Día\n",
            "   Precio: $6.75\n",
            "   Ingredientes: quinoa, tofu, vegetales salteados\n",
            "\n",
            "==============================\n"
          ]
        }
      ],
      "source": [
        "# Añadir un nuevo plato temporal llamado \"Plato del Día\"\n",
        "menu_restaurante[\"Plato del Día\"] = {\n",
        "    \"precio\": 6.75,\n",
        "    \"ingredientes\": (\"quinoa\", \"tofu\", \"vegetales salteados\")\n",
        "}\n",
        "\n",
        "print(\"\\n🆕 Se ha añadido el 'Plato del Día' al menú.\")\n",
        "mostrar_menu(menu_restaurante)\n"
      ]
    },
    {
      "cell_type": "code",
      "execution_count": null,
      "id": "9bafc27e",
      "metadata": {
        "id": "9bafc27e"
      },
      "outputs": [],
      "source": [
        "                                                 Especiales del dia"
      ]
    },
    {
      "cell_type": "code",
      "execution_count": 22,
      "id": "624ff624",
      "metadata": {
        "colab": {
          "base_uri": "https://localhost:8080/"
        },
        "id": "624ff624",
        "outputId": "f8dcf725-ed6f-4e1c-c43f-905226c1bd98"
      },
      "outputs": [
        {
          "output_type": "stream",
          "name": "stdout",
          "text": [
            "\n",
            "⭐ ESPECIALES DEL DÍA:\n",
            "\n",
            "🍽️ Encocado de pescado\n",
            "   Precio: $4.95\n",
            "   Ingredientes: llervita, pescado, ranchero, sal, mostaza, chillangua, coco, verde\n",
            "\n",
            "🍽️ Plato del Día\n",
            "   Precio: $6.75\n",
            "   Ingredientes: quinoa, tofu, vegetales salteados\n"
          ]
        }
      ],
      "source": [
        "# Crear una lista con platos seleccionados como especiales\n",
        "especiales_del_dia = [\"Encocado de pescado\", \"Plato del Día\"]\n",
        "\n",
        "print(\"\\n⭐ ESPECIALES DEL DÍA:\")\n",
        "for especial in especiales_del_dia:\n",
        "    detalles = menu_restaurante[especial]\n",
        "    ingredientes_str = ', '.join(detalles['ingredientes'])\n",
        "    print(f\"\\n🍽️ {especial}\")\n",
        "    print(f\"   Precio: ${detalles['precio']:.2f}\")\n",
        "    print(f\"   Ingredientes: {ingredientes_str}\")\n"
      ]
    }
  ],
  "metadata": {
    "kernelspec": {
      "display_name": "Python 3",
      "language": "python",
      "name": "python3"
    },
    "language_info": {
      "codemirror_mode": {
        "name": "ipython",
        "version": 3
      },
      "file_extension": ".py",
      "mimetype": "text/x-python",
      "name": "python",
      "nbconvert_exporter": "python",
      "pygments_lexer": "ipython3",
      "version": "3.13.3"
    },
    "colab": {
      "provenance": []
    }
  },
  "nbformat": 4,
  "nbformat_minor": 5
}